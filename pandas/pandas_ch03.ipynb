{
 "cells": [
  {
   "cell_type": "code",
   "execution_count": 52,
   "metadata": {
    "collapsed": false
   },
   "outputs": [],
   "source": [
    "import numpy as np\n",
    "import pandas as pd\n",
    "import datetime\n",
    "import matplotlib.pyplot as plt\n",
    "%matplotlib inline\n",
    "\n",
    "pd.set_option('display.notebook_repr_html', False)\n",
    "pd.set_option('display.max_columns', 15)\n",
    "pd.set_option('display.max_rows', 8)\n",
    "pd.set_option('precision', 3)"
   ]
  },
  {
   "cell_type": "code",
   "execution_count": 53,
   "metadata": {
    "collapsed": false
   },
   "outputs": [],
   "source": [
    "import pandas.io.data as web\n",
    "start = datetime.datetime(2012, 1, 1)\n",
    "end = datetime.datetime(2012, 12, 30)\n",
    "\n",
    "msft = web.DataReader(\"MSFT\", 'yahoo', start, end)\n",
    "aapl = web.DataReader(\"AAPL\", 'yahoo', start, end)"
   ]
  },
  {
   "cell_type": "code",
   "execution_count": 54,
   "metadata": {
    "collapsed": false
   },
   "outputs": [
    {
     "data": {
      "text/plain": [
       "              Open    High     Low   Close    Volume  Adj Close\n",
       "Date                                                           \n",
       "2012-01-03  409.40  412.50  409.00  411.23  75555200     54.076\n",
       "2012-01-04  410.00  414.68  409.28  413.44  65005500     54.366\n",
       "2012-01-05  414.95  418.55  412.67  418.03  67817400     54.970"
      ]
     },
     "execution_count": 54,
     "metadata": {},
     "output_type": "execute_result"
    }
   ],
   "source": [
    "aapl[:3]"
   ]
  },
  {
   "cell_type": "code",
   "execution_count": 55,
   "metadata": {
    "collapsed": false
   },
   "outputs": [
    {
     "data": {
      "text/plain": [
       "             Open   High    Low  Close    Volume  Adj Close\n",
       "Date                                                       \n",
       "2012-01-03  26.55  26.96  26.39  26.77  64731500     23.608\n",
       "2012-01-04  26.82  27.47  26.78  27.40  80516100     24.164\n",
       "2012-01-05  27.38  27.73  27.29  27.68  56081400     24.410"
      ]
     },
     "execution_count": 55,
     "metadata": {},
     "output_type": "execute_result"
    }
   ],
   "source": [
    "msft[:3]"
   ]
  },
  {
   "cell_type": "code",
   "execution_count": 56,
   "metadata": {
    "collapsed": true
   },
   "outputs": [],
   "source": [
    "msftA1 = msft['2012-01'][['Adj Close']]\n",
    "msftA2 = msft['2012-02'][['Adj Close']]"
   ]
  },
  {
   "cell_type": "code",
   "execution_count": 57,
   "metadata": {
    "collapsed": false
   },
   "outputs": [
    {
     "data": {
      "text/plain": [
       "            Adj Close\n",
       "Date                 \n",
       "2012-02-01     26.359\n",
       "2012-02-02     26.412\n",
       "2012-02-03     26.668"
      ]
     },
     "execution_count": 57,
     "metadata": {},
     "output_type": "execute_result"
    }
   ],
   "source": [
    "msftA2[:3]"
   ]
  },
  {
   "cell_type": "code",
   "execution_count": 58,
   "metadata": {
    "collapsed": false
   },
   "outputs": [
    {
     "data": {
      "text/plain": [
       "            Adj Close\n",
       "Date                 \n",
       "2012-01-03     23.608\n",
       "2012-01-04     24.164\n",
       "2012-01-05     24.410\n",
       "2012-02-01     26.359\n",
       "2012-02-02     26.412\n",
       "2012-02-03     26.668"
      ]
     },
     "execution_count": 58,
     "metadata": {},
     "output_type": "execute_result"
    }
   ],
   "source": [
    "pd.concat([msftA1.head(3), msftA2.head(3)])"
   ]
  },
  {
   "cell_type": "code",
   "execution_count": 59,
   "metadata": {
    "collapsed": false
   },
   "outputs": [
    {
     "data": {
      "text/plain": [
       "            Adj Close\n",
       "Date                 \n",
       "2012-01-03     23.608\n",
       "2012-01-04     24.164\n",
       "2012-01-05     24.410\n",
       "2012-01-03     54.076\n",
       "2012-01-04     54.366\n",
       "2012-01-05     54.970"
      ]
     },
     "execution_count": 59,
     "metadata": {},
     "output_type": "execute_result"
    }
   ],
   "source": [
    "aaplA1 = aapl['2012-01'][['Adj Close']]\n",
    "withDups = pd.concat([msftA1[:3], aaplA1[:3]])\n",
    "withDups"
   ]
  },
  {
   "cell_type": "code",
   "execution_count": 60,
   "metadata": {
    "collapsed": false
   },
   "outputs": [
    {
     "data": {
      "text/plain": [
       "            Adj Close\n",
       "Date                 \n",
       "2012-01-03     23.608\n",
       "2012-01-03     54.076"
      ]
     },
     "execution_count": 60,
     "metadata": {},
     "output_type": "execute_result"
    }
   ],
   "source": [
    "withDups.ix['2012-01-03']"
   ]
  },
  {
   "cell_type": "code",
   "execution_count": 61,
   "metadata": {
    "collapsed": false
   },
   "outputs": [
    {
     "data": {
      "text/plain": [
       "                 Adj Close\n",
       "     Date                 \n",
       "MSFT 2012-01-03     23.608\n",
       "     2012-01-04     24.164\n",
       "     2012-01-05     24.410\n",
       "AAPL 2012-01-03     54.076\n",
       "     2012-01-04     54.366\n",
       "     2012-01-05     54.970"
      ]
     },
     "execution_count": 61,
     "metadata": {},
     "output_type": "execute_result"
    }
   ],
   "source": [
    "closes = pd.concat([msftA1[:3], aaplA1[:3]], keys=['MSFT', 'AAPL'])\n",
    "closes"
   ]
  },
  {
   "cell_type": "code",
   "execution_count": 62,
   "metadata": {
    "collapsed": false
   },
   "outputs": [
    {
     "data": {
      "text/plain": [
       "            Adj Close\n",
       "Date                 \n",
       "2012-01-03     23.608\n",
       "2012-01-04     24.164\n",
       "2012-01-05     24.410"
      ]
     },
     "execution_count": 62,
     "metadata": {},
     "output_type": "execute_result"
    }
   ],
   "source": [
    "closes.ix['MSFT'][:3]"
   ]
  },
  {
   "cell_type": "code",
   "execution_count": 63,
   "metadata": {
    "collapsed": false
   },
   "outputs": [
    {
     "data": {
      "text/plain": [
       "            Adj Close     Volume\n",
       "Date                            \n",
       "2012-01-03     23.608   64731500\n",
       "2012-01-04     24.164   80516100\n",
       "2012-01-05     24.410   56081400\n",
       "2012-01-06     24.790   99455500\n",
       "...               ...        ...\n",
       "2012-12-24     69.009   43938300\n",
       "2012-12-26     68.057   75609100\n",
       "2012-12-27     68.331  113780100\n",
       "2012-12-28     67.605   88569600\n",
       "\n",
       "[498 rows x 2 columns]"
      ]
     },
     "execution_count": 63,
     "metadata": {},
     "output_type": "execute_result"
    }
   ],
   "source": [
    "msftAV = msft[['Adj Close', 'Volume']]\n",
    "aaplAV = aapl[['Adj Close', 'Volume']]\n",
    "pd.concat([msftAV, aaplAV])"
   ]
  },
  {
   "cell_type": "code",
   "execution_count": 64,
   "metadata": {
    "collapsed": false
   },
   "outputs": [
    {
     "data": {
      "text/plain": [
       "            Adj Close     Volume\n",
       "Date                            \n",
       "2012-01-03     23.608  6.473e+07\n",
       "2012-01-04     24.164  8.052e+07\n",
       "2012-01-05     24.410  5.608e+07\n",
       "2012-01-06     24.790  9.946e+07\n",
       "...               ...        ...\n",
       "2012-12-24     69.009        NaN\n",
       "2012-12-26     68.057        NaN\n",
       "2012-12-27     68.331        NaN\n",
       "2012-12-28     67.605        NaN\n",
       "\n",
       "[498 rows x 2 columns]"
      ]
     },
     "execution_count": 64,
     "metadata": {},
     "output_type": "execute_result"
    }
   ],
   "source": [
    "aaplA = aapl[['Adj Close']]\n",
    "pd.concat([msftAV, aaplA])"
   ]
  },
  {
   "cell_type": "code",
   "execution_count": 65,
   "metadata": {
    "collapsed": false
   },
   "outputs": [
    {
     "data": {
      "text/plain": [
       "            Adj Close\n",
       "Date                 \n",
       "2012-01-03     23.608\n",
       "2012-01-04     24.164\n",
       "2012-01-05     24.410\n",
       "2012-01-06     24.790\n",
       "...               ...\n",
       "2012-12-24     69.009\n",
       "2012-12-26     68.057\n",
       "2012-12-27     68.331\n",
       "2012-12-28     67.605\n",
       "\n",
       "[498 rows x 1 columns]"
      ]
     },
     "execution_count": 65,
     "metadata": {},
     "output_type": "execute_result"
    }
   ],
   "source": [
    "pd.concat([msftAV, aaplA], join='inner')"
   ]
  },
  {
   "cell_type": "code",
   "execution_count": 66,
   "metadata": {
    "collapsed": false
   },
   "outputs": [
    {
     "data": {
      "text/plain": [
       "            Adj Close  Adj Close\n",
       "Date                            \n",
       "2012-01-03     23.608     54.076\n",
       "2012-01-04     24.164     54.366\n",
       "2012-01-05     24.410     54.970"
      ]
     },
     "execution_count": 66,
     "metadata": {},
     "output_type": "execute_result"
    }
   ],
   "source": [
    "msftA = msft[['Adj Close']]\n",
    "closes = pd.concat([msftA, aaplA], axis=1)\n",
    "closes[:3]"
   ]
  },
  {
   "cell_type": "code",
   "execution_count": 67,
   "metadata": {
    "collapsed": false
   },
   "outputs": [
    {
     "data": {
      "text/plain": [
       "                MSFT                AAPL          \n",
       "           Adj Close    Volume Adj Close    Volume\n",
       "Date                                              \n",
       "2012-01-03    23.608  64731500    54.076  75555200\n",
       "2012-01-04    24.164  80516100    54.366  65005500\n",
       "2012-01-05    24.410  56081400    54.970  67817400"
      ]
     },
     "execution_count": 67,
     "metadata": {},
     "output_type": "execute_result"
    }
   ],
   "source": [
    "pd.concat([msftAV[:5], aaplAV[:3]],axis=1,join='inner', keys=['MSFT', 'AAPL'])"
   ]
  },
  {
   "cell_type": "code",
   "execution_count": 68,
   "metadata": {
    "collapsed": false
   },
   "outputs": [
    {
     "data": {
      "text/plain": [
       "   Adj Close\n",
       "0     23.608\n",
       "1     24.164\n",
       "2     24.410\n",
       "3     54.076\n",
       "4     54.366\n",
       "5     54.970"
      ]
     },
     "execution_count": 68,
     "metadata": {},
     "output_type": "execute_result"
    }
   ],
   "source": [
    "pd.concat([msftA[:3], aaplA[:3]], ignore_index=True)"
   ]
  },
  {
   "cell_type": "code",
   "execution_count": 69,
   "metadata": {
    "collapsed": false
   },
   "outputs": [
    {
     "data": {
      "text/plain": [
       "        Date  Adj Close\n",
       "0 2012-01-03     23.608\n",
       "1 2012-01-04     24.164\n",
       "2 2012-01-05     24.410"
      ]
     },
     "execution_count": 69,
     "metadata": {},
     "output_type": "execute_result"
    }
   ],
   "source": [
    "msftAR = msftA.reset_index()\n",
    "msftVR = msft[['Volume']].reset_index()\n",
    "msftAR[:3]"
   ]
  },
  {
   "cell_type": "code",
   "execution_count": 70,
   "metadata": {
    "collapsed": false
   },
   "outputs": [
    {
     "data": {
      "text/plain": [
       "        Date    Volume\n",
       "0 2012-01-03  64731500\n",
       "1 2012-01-04  80516100\n",
       "2 2012-01-05  56081400"
      ]
     },
     "execution_count": 70,
     "metadata": {},
     "output_type": "execute_result"
    }
   ],
   "source": [
    "msftVR[:3]"
   ]
  },
  {
   "cell_type": "code",
   "execution_count": 71,
   "metadata": {
    "collapsed": false
   },
   "outputs": [
    {
     "data": {
      "text/plain": [
       "        Date  Adj Close    Volume\n",
       "0 2012-01-03     23.608  64731500\n",
       "1 2012-01-04     24.164  80516100\n",
       "2 2012-01-05     24.410  56081400\n",
       "3 2012-01-06     24.790  99455500\n",
       "4 2012-01-09     24.463  59706800"
      ]
     },
     "execution_count": 71,
     "metadata": {},
     "output_type": "execute_result"
    }
   ],
   "source": [
    "msftCVR = pd.merge(msftAR, msftVR)\n",
    "msftCVR[:5]"
   ]
  },
  {
   "cell_type": "code",
   "execution_count": 72,
   "metadata": {
    "collapsed": false
   },
   "outputs": [
    {
     "data": {
      "text/plain": [
       "        Date  Adj Close\n",
       "0 2012-01-03     23.608\n",
       "1 2012-01-04     24.164\n",
       "2 2012-01-05     24.410\n",
       "3 2012-01-06     24.790\n",
       "4 2012-01-09     24.463"
      ]
     },
     "execution_count": 72,
     "metadata": {},
     "output_type": "execute_result"
    }
   ],
   "source": [
    "msftAR0_5 = msftAR[0:5]\n",
    "msftAR0_5"
   ]
  },
  {
   "cell_type": "code",
   "execution_count": 73,
   "metadata": {
    "collapsed": false
   },
   "outputs": [
    {
     "data": {
      "text/plain": [
       "        Date    Volume\n",
       "2 2012-01-05  56081400\n",
       "3 2012-01-06  99455500"
      ]
     },
     "execution_count": 73,
     "metadata": {},
     "output_type": "execute_result"
    }
   ],
   "source": [
    "msftVR2_4 = msftVR[2:4]\n",
    "msftVR2_4"
   ]
  },
  {
   "cell_type": "code",
   "execution_count": 74,
   "metadata": {
    "collapsed": false
   },
   "outputs": [
    {
     "data": {
      "text/plain": [
       "        Date  Adj Close    Volume\n",
       "0 2012-01-05      24.41  56081400\n",
       "1 2012-01-06      24.79  99455500"
      ]
     },
     "execution_count": 74,
     "metadata": {},
     "output_type": "execute_result"
    }
   ],
   "source": [
    "pd.merge(msftAR0_5, msftVR2_4)"
   ]
  },
  {
   "cell_type": "code",
   "execution_count": 75,
   "metadata": {
    "collapsed": false
   },
   "outputs": [
    {
     "data": {
      "text/plain": [
       "        Date  Adj Close     Volume\n",
       "0 2012-01-03     23.608        NaN\n",
       "1 2012-01-04     24.164        NaN\n",
       "2 2012-01-05     24.410  5.608e+07\n",
       "3 2012-01-06     24.790  9.946e+07\n",
       "4 2012-01-09     24.463        NaN"
      ]
     },
     "execution_count": 75,
     "metadata": {},
     "output_type": "execute_result"
    }
   ],
   "source": [
    "pd.merge(msftAR0_5, msftVR2_4, how='outer')"
   ]
  },
  {
   "cell_type": "code",
   "execution_count": 76,
   "metadata": {
    "collapsed": false
   },
   "outputs": [
    {
     "data": {
      "text/plain": [
       "        Date Symbol    Open    High     Low   Close    Volume  Adj Close\n",
       "0 2012-01-03   MSFT   26.55   26.96   26.39   26.77  64731500     23.608\n",
       "1 2012-01-03   AAPL  409.40  412.50  409.00  411.23  75555200     54.076\n",
       "2 2012-01-04   MSFT   26.82   27.47   26.78   27.40  80516100     24.164\n",
       "3 2012-01-04   AAPL  410.00  414.68  409.28  413.44  65005500     54.366\n",
       "4 2012-01-05   MSFT   27.38   27.73   27.29   27.68  56081400     24.410"
      ]
     },
     "execution_count": 76,
     "metadata": {},
     "output_type": "execute_result"
    }
   ],
   "source": [
    "msft.insert(0, 'Symbol', 'MSFT')\n",
    "aapl.insert(0, 'Symbol', 'AAPL')\n",
    "combined = pd.concat([msft, aapl]).sort_index()\n",
    "s4p = combined.reset_index()\n",
    "s4p[:5]"
   ]
  },
  {
   "cell_type": "code",
   "execution_count": null,
   "metadata": {
    "collapsed": true
   },
   "outputs": [],
   "source": []
  }
 ],
 "metadata": {
  "kernelspec": {
   "display_name": "Python 3",
   "language": "python",
   "name": "python3"
  },
  "language_info": {
   "codemirror_mode": {
    "name": "ipython",
    "version": 3
   },
   "file_extension": ".py",
   "mimetype": "text/x-python",
   "name": "python",
   "nbconvert_exporter": "python",
   "pygments_lexer": "ipython3",
   "version": "3.5.1"
  }
 },
 "nbformat": 4,
 "nbformat_minor": 0
}
