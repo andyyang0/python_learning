{
 "cells": [
  {
   "cell_type": "code",
   "execution_count": 1,
   "metadata": {
    "collapsed": false
   },
   "outputs": [],
   "source": [
    "import numpy as np\n",
    "import pandas as pd\n",
    "import datetime\n",
    "import matplotlib.pyplot as plt\n",
    "%matplotlib inline\n",
    "\n",
    "pd.set_option('display.notebook_repr_html', False)\n",
    "pd.set_option('display.max_columns', 15)\n",
    "pd.set_option('display.max_rows', 8)\n",
    "pd.set_option('precision', 3)"
   ]
  },
  {
   "cell_type": "code",
   "execution_count": 2,
   "metadata": {
    "collapsed": false
   },
   "outputs": [
    {
     "name": "stderr",
     "output_type": "stream",
     "text": [
      "/home/andy/anaconda3/lib/python3.5/site-packages/pandas/io/data.py:35: FutureWarning: \n",
      "The pandas.io.data module is moved to a separate package (pandas-datareader) and will be removed from pandas in a future version.\n",
      "After installing the pandas-datareader package (https://github.com/pydata/pandas-datareader), you can change the import ``from pandas.io import data, wb`` to ``from pandas_datareader import data, wb``.\n",
      "  FutureWarning)\n"
     ]
    }
   ],
   "source": [
    "import pandas.io.data as web\n",
    "start = datetime.datetime(2012, 1, 1)\n",
    "end = datetime.datetime(2012, 12, 30)\n",
    "\n",
    "msft = web.DataReader(\"MSFT\", 'yahoo', start, end)\n",
    "aapl = web.DataReader(\"AAPL\", 'yahoo', start, end)"
   ]
  },
  {
   "cell_type": "code",
   "execution_count": 3,
   "metadata": {
    "collapsed": false
   },
   "outputs": [
    {
     "data": {
      "text/plain": [
       "              Open    High     Low   Close    Volume  Adj Close\n",
       "Date                                                           \n",
       "2012-01-03  409.40  412.50  409.00  411.23  75555200     54.076\n",
       "2012-01-04  410.00  414.68  409.28  413.44  65005500     54.366\n",
       "2012-01-05  414.95  418.55  412.67  418.03  67817400     54.970"
      ]
     },
     "execution_count": 3,
     "metadata": {},
     "output_type": "execute_result"
    }
   ],
   "source": [
    "aapl[:3]"
   ]
  },
  {
   "cell_type": "code",
   "execution_count": 4,
   "metadata": {
    "collapsed": false
   },
   "outputs": [
    {
     "data": {
      "text/plain": [
       "             Open   High    Low  Close    Volume  Adj Close\n",
       "Date                                                       \n",
       "2012-01-03  26.55  26.96  26.39  26.77  64731500     23.608\n",
       "2012-01-04  26.82  27.47  26.78  27.40  80516100     24.164\n",
       "2012-01-05  27.38  27.73  27.29  27.68  56081400     24.410"
      ]
     },
     "execution_count": 4,
     "metadata": {},
     "output_type": "execute_result"
    }
   ],
   "source": [
    "msft[:3]"
   ]
  },
  {
   "cell_type": "code",
   "execution_count": 5,
   "metadata": {
    "collapsed": true
   },
   "outputs": [],
   "source": [
    "msftA1 = msft['2012-01'][['Adj Close']]\n",
    "msftA2 = msft['2012-02'][['Adj Close']]"
   ]
  },
  {
   "cell_type": "code",
   "execution_count": 6,
   "metadata": {
    "collapsed": false
   },
   "outputs": [
    {
     "data": {
      "text/plain": [
       "            Adj Close\n",
       "Date                 \n",
       "2012-02-01     26.359\n",
       "2012-02-02     26.412\n",
       "2012-02-03     26.668"
      ]
     },
     "execution_count": 6,
     "metadata": {},
     "output_type": "execute_result"
    }
   ],
   "source": [
    "msftA2[:3]"
   ]
  },
  {
   "cell_type": "code",
   "execution_count": 7,
   "metadata": {
    "collapsed": false
   },
   "outputs": [
    {
     "data": {
      "text/plain": [
       "            Adj Close\n",
       "Date                 \n",
       "2012-01-03     23.608\n",
       "2012-01-04     24.164\n",
       "2012-01-05     24.410\n",
       "2012-02-01     26.359\n",
       "2012-02-02     26.412\n",
       "2012-02-03     26.668"
      ]
     },
     "execution_count": 7,
     "metadata": {},
     "output_type": "execute_result"
    }
   ],
   "source": [
    "pd.concat([msftA1.head(3), msftA2.head(3)])"
   ]
  },
  {
   "cell_type": "code",
   "execution_count": 8,
   "metadata": {
    "collapsed": false
   },
   "outputs": [
    {
     "data": {
      "text/plain": [
       "            Adj Close\n",
       "Date                 \n",
       "2012-01-03     23.608\n",
       "2012-01-04     24.164\n",
       "2012-01-05     24.410\n",
       "2012-01-03     54.076\n",
       "2012-01-04     54.366\n",
       "2012-01-05     54.970"
      ]
     },
     "execution_count": 8,
     "metadata": {},
     "output_type": "execute_result"
    }
   ],
   "source": [
    "aaplA1 = aapl['2012-01'][['Adj Close']]\n",
    "withDups = pd.concat([msftA1[:3], aaplA1[:3]])\n",
    "withDups"
   ]
  },
  {
   "cell_type": "code",
   "execution_count": 9,
   "metadata": {
    "collapsed": false
   },
   "outputs": [
    {
     "data": {
      "text/plain": [
       "            Adj Close\n",
       "Date                 \n",
       "2012-01-03     23.608\n",
       "2012-01-03     54.076"
      ]
     },
     "execution_count": 9,
     "metadata": {},
     "output_type": "execute_result"
    }
   ],
   "source": [
    "withDups.ix['2012-01-03']"
   ]
  },
  {
   "cell_type": "code",
   "execution_count": 10,
   "metadata": {
    "collapsed": false
   },
   "outputs": [
    {
     "data": {
      "text/plain": [
       "                 Adj Close\n",
       "     Date                 \n",
       "MSFT 2012-01-03     23.608\n",
       "     2012-01-04     24.164\n",
       "     2012-01-05     24.410\n",
       "AAPL 2012-01-03     54.076\n",
       "     2012-01-04     54.366\n",
       "     2012-01-05     54.970"
      ]
     },
     "execution_count": 10,
     "metadata": {},
     "output_type": "execute_result"
    }
   ],
   "source": [
    "closes = pd.concat([msftA1[:3], aaplA1[:3]], keys=['MSFT', 'AAPL'])\n",
    "closes"
   ]
  },
  {
   "cell_type": "code",
   "execution_count": 11,
   "metadata": {
    "collapsed": false
   },
   "outputs": [
    {
     "data": {
      "text/plain": [
       "            Adj Close\n",
       "Date                 \n",
       "2012-01-03     23.608\n",
       "2012-01-04     24.164\n",
       "2012-01-05     24.410"
      ]
     },
     "execution_count": 11,
     "metadata": {},
     "output_type": "execute_result"
    }
   ],
   "source": [
    "closes.ix['MSFT'][:3]"
   ]
  },
  {
   "cell_type": "code",
   "execution_count": 12,
   "metadata": {
    "collapsed": false
   },
   "outputs": [
    {
     "data": {
      "text/plain": [
       "            Adj Close     Volume\n",
       "Date                            \n",
       "2012-01-03     23.608   64731500\n",
       "2012-01-04     24.164   80516100\n",
       "2012-01-05     24.410   56081400\n",
       "2012-01-06     24.790   99455500\n",
       "...               ...        ...\n",
       "2012-12-24     69.009   43938300\n",
       "2012-12-26     68.057   75609100\n",
       "2012-12-27     68.331  113780100\n",
       "2012-12-28     67.605   88569600\n",
       "\n",
       "[498 rows x 2 columns]"
      ]
     },
     "execution_count": 12,
     "metadata": {},
     "output_type": "execute_result"
    }
   ],
   "source": [
    "msftAV = msft[['Adj Close', 'Volume']]\n",
    "aaplAV = aapl[['Adj Close', 'Volume']]\n",
    "pd.concat([msftAV, aaplAV])"
   ]
  },
  {
   "cell_type": "code",
   "execution_count": 13,
   "metadata": {
    "collapsed": false
   },
   "outputs": [
    {
     "data": {
      "text/plain": [
       "            Adj Close     Volume\n",
       "Date                            \n",
       "2012-01-03     23.608  6.473e+07\n",
       "2012-01-04     24.164  8.052e+07\n",
       "2012-01-05     24.410  5.608e+07\n",
       "2012-01-06     24.790  9.946e+07\n",
       "...               ...        ...\n",
       "2012-12-24     69.009        NaN\n",
       "2012-12-26     68.057        NaN\n",
       "2012-12-27     68.331        NaN\n",
       "2012-12-28     67.605        NaN\n",
       "\n",
       "[498 rows x 2 columns]"
      ]
     },
     "execution_count": 13,
     "metadata": {},
     "output_type": "execute_result"
    }
   ],
   "source": [
    "aaplA = aapl[['Adj Close']]\n",
    "pd.concat([msftAV, aaplA])"
   ]
  },
  {
   "cell_type": "code",
   "execution_count": 14,
   "metadata": {
    "collapsed": false
   },
   "outputs": [
    {
     "data": {
      "text/plain": [
       "            Adj Close\n",
       "Date                 \n",
       "2012-01-03     23.608\n",
       "2012-01-04     24.164\n",
       "2012-01-05     24.410\n",
       "2012-01-06     24.790\n",
       "...               ...\n",
       "2012-12-24     69.009\n",
       "2012-12-26     68.057\n",
       "2012-12-27     68.331\n",
       "2012-12-28     67.605\n",
       "\n",
       "[498 rows x 1 columns]"
      ]
     },
     "execution_count": 14,
     "metadata": {},
     "output_type": "execute_result"
    }
   ],
   "source": [
    "pd.concat([msftAV, aaplA], join='inner')"
   ]
  },
  {
   "cell_type": "code",
   "execution_count": 15,
   "metadata": {
    "collapsed": false
   },
   "outputs": [
    {
     "data": {
      "text/plain": [
       "            Adj Close  Adj Close\n",
       "Date                            \n",
       "2012-01-03     23.608     54.076\n",
       "2012-01-04     24.164     54.366\n",
       "2012-01-05     24.410     54.970"
      ]
     },
     "execution_count": 15,
     "metadata": {},
     "output_type": "execute_result"
    }
   ],
   "source": [
    "msftA = msft[['Adj Close']]\n",
    "closes = pd.concat([msftA, aaplA], axis=1)\n",
    "closes[:3]"
   ]
  },
  {
   "cell_type": "code",
   "execution_count": 16,
   "metadata": {
    "collapsed": false
   },
   "outputs": [
    {
     "data": {
      "text/plain": [
       "                MSFT                AAPL          \n",
       "           Adj Close    Volume Adj Close    Volume\n",
       "Date                                              \n",
       "2012-01-03    23.608  64731500    54.076  75555200\n",
       "2012-01-04    24.164  80516100    54.366  65005500\n",
       "2012-01-05    24.410  56081400    54.970  67817400"
      ]
     },
     "execution_count": 16,
     "metadata": {},
     "output_type": "execute_result"
    }
   ],
   "source": [
    "pd.concat([msftAV[:5], aaplAV[:3]],axis=1,join='inner', keys=['MSFT', 'AAPL'])"
   ]
  },
  {
   "cell_type": "code",
   "execution_count": 17,
   "metadata": {
    "collapsed": false
   },
   "outputs": [
    {
     "data": {
      "text/plain": [
       "   Adj Close\n",
       "0     23.608\n",
       "1     24.164\n",
       "2     24.410\n",
       "3     54.076\n",
       "4     54.366\n",
       "5     54.970"
      ]
     },
     "execution_count": 17,
     "metadata": {},
     "output_type": "execute_result"
    }
   ],
   "source": [
    "pd.concat([msftA[:3], aaplA[:3]], ignore_index=True)"
   ]
  },
  {
   "cell_type": "code",
   "execution_count": 18,
   "metadata": {
    "collapsed": false
   },
   "outputs": [
    {
     "data": {
      "text/plain": [
       "        Date  Adj Close\n",
       "0 2012-01-03     23.608\n",
       "1 2012-01-04     24.164\n",
       "2 2012-01-05     24.410"
      ]
     },
     "execution_count": 18,
     "metadata": {},
     "output_type": "execute_result"
    }
   ],
   "source": [
    "msftAR = msftA.reset_index()\n",
    "msftVR = msft[['Volume']].reset_index()\n",
    "msftAR[:3]"
   ]
  },
  {
   "cell_type": "code",
   "execution_count": 19,
   "metadata": {
    "collapsed": false
   },
   "outputs": [
    {
     "data": {
      "text/plain": [
       "        Date    Volume\n",
       "0 2012-01-03  64731500\n",
       "1 2012-01-04  80516100\n",
       "2 2012-01-05  56081400"
      ]
     },
     "execution_count": 19,
     "metadata": {},
     "output_type": "execute_result"
    }
   ],
   "source": [
    "msftVR[:3]"
   ]
  },
  {
   "cell_type": "code",
   "execution_count": 20,
   "metadata": {
    "collapsed": false
   },
   "outputs": [
    {
     "data": {
      "text/plain": [
       "        Date  Adj Close    Volume\n",
       "0 2012-01-03     23.608  64731500\n",
       "1 2012-01-04     24.164  80516100\n",
       "2 2012-01-05     24.410  56081400\n",
       "3 2012-01-06     24.790  99455500\n",
       "4 2012-01-09     24.463  59706800"
      ]
     },
     "execution_count": 20,
     "metadata": {},
     "output_type": "execute_result"
    }
   ],
   "source": [
    "msftCVR = pd.merge(msftAR, msftVR)\n",
    "msftCVR[:5]"
   ]
  },
  {
   "cell_type": "code",
   "execution_count": 21,
   "metadata": {
    "collapsed": false
   },
   "outputs": [
    {
     "data": {
      "text/plain": [
       "        Date  Adj Close\n",
       "0 2012-01-03     23.608\n",
       "1 2012-01-04     24.164\n",
       "2 2012-01-05     24.410\n",
       "3 2012-01-06     24.790\n",
       "4 2012-01-09     24.463"
      ]
     },
     "execution_count": 21,
     "metadata": {},
     "output_type": "execute_result"
    }
   ],
   "source": [
    "msftAR0_5 = msftAR[0:5]\n",
    "msftAR0_5"
   ]
  },
  {
   "cell_type": "code",
   "execution_count": 22,
   "metadata": {
    "collapsed": false
   },
   "outputs": [
    {
     "data": {
      "text/plain": [
       "        Date    Volume\n",
       "2 2012-01-05  56081400\n",
       "3 2012-01-06  99455500"
      ]
     },
     "execution_count": 22,
     "metadata": {},
     "output_type": "execute_result"
    }
   ],
   "source": [
    "msftVR2_4 = msftVR[2:4]\n",
    "msftVR2_4"
   ]
  },
  {
   "cell_type": "code",
   "execution_count": 23,
   "metadata": {
    "collapsed": false
   },
   "outputs": [
    {
     "data": {
      "text/plain": [
       "        Date  Adj Close    Volume\n",
       "0 2012-01-05      24.41  56081400\n",
       "1 2012-01-06      24.79  99455500"
      ]
     },
     "execution_count": 23,
     "metadata": {},
     "output_type": "execute_result"
    }
   ],
   "source": [
    "pd.merge(msftAR0_5, msftVR2_4)"
   ]
  },
  {
   "cell_type": "code",
   "execution_count": 24,
   "metadata": {
    "collapsed": false
   },
   "outputs": [
    {
     "data": {
      "text/plain": [
       "        Date  Adj Close     Volume\n",
       "0 2012-01-03     23.608        NaN\n",
       "1 2012-01-04     24.164        NaN\n",
       "2 2012-01-05     24.410  5.608e+07\n",
       "3 2012-01-06     24.790  9.946e+07\n",
       "4 2012-01-09     24.463        NaN"
      ]
     },
     "execution_count": 24,
     "metadata": {},
     "output_type": "execute_result"
    }
   ],
   "source": [
    "pd.merge(msftAR0_5, msftVR2_4, how='outer')"
   ]
  },
  {
   "cell_type": "code",
   "execution_count": 25,
   "metadata": {
    "collapsed": false
   },
   "outputs": [
    {
     "data": {
      "text/plain": [
       "        Date Symbol    Open    High     Low   Close    Volume  Adj Close\n",
       "0 2012-01-03   MSFT   26.55   26.96   26.39   26.77  64731500     23.608\n",
       "1 2012-01-03   AAPL  409.40  412.50  409.00  411.23  75555200     54.076\n",
       "2 2012-01-04   MSFT   26.82   27.47   26.78   27.40  80516100     24.164\n",
       "3 2012-01-04   AAPL  410.00  414.68  409.28  413.44  65005500     54.366\n",
       "4 2012-01-05   MSFT   27.38   27.73   27.29   27.68  56081400     24.410"
      ]
     },
     "execution_count": 25,
     "metadata": {},
     "output_type": "execute_result"
    }
   ],
   "source": [
    "msft.insert(0, 'Symbol', 'MSFT')\n",
    "aapl.insert(0, 'Symbol', 'AAPL')\n",
    "combined = pd.concat([msft, aapl]).sort_index()\n",
    "s4p = combined.reset_index()\n",
    "s4p[:5]"
   ]
  },
  {
   "cell_type": "code",
   "execution_count": 26,
   "metadata": {
    "collapsed": false
   },
   "outputs": [
    {
     "data": {
      "text/plain": [
       "Symbol        AAPL    MSFT\n",
       "Date                      \n",
       "2012-01-03  54.076  23.608\n",
       "2012-01-04  54.366  24.164\n",
       "2012-01-05  54.970  24.410"
      ]
     },
     "execution_count": 26,
     "metadata": {},
     "output_type": "execute_result"
    }
   ],
   "source": [
    "closes = s4p.pivot(index='Date', columns='Symbol', values='Adj Close')\n",
    "closes[:3]"
   ]
  },
  {
   "cell_type": "code",
   "execution_count": 27,
   "metadata": {
    "collapsed": false
   },
   "outputs": [
    {
     "data": {
      "text/plain": [
       "Date        Symbol\n",
       "2012-01-03  AAPL      54.076\n",
       "            MSFT      23.608\n",
       "2012-01-04  AAPL      54.366\n",
       "            MSFT      24.164\n",
       "                       ...  \n",
       "2012-12-27  AAPL      68.331\n",
       "            MSFT      24.448\n",
       "2012-12-28  AAPL      67.605\n",
       "            MSFT      24.076\n",
       "dtype: float64"
      ]
     },
     "execution_count": 27,
     "metadata": {},
     "output_type": "execute_result"
    }
   ],
   "source": [
    "stackedClose = closes.stack()\n",
    "stackedClose"
   ]
  },
  {
   "cell_type": "code",
   "execution_count": 28,
   "metadata": {
    "collapsed": false
   },
   "outputs": [
    {
     "data": {
      "text/plain": [
       "Symbol\n",
       "AAPL    54.076\n",
       "MSFT    23.608\n",
       "dtype: float64"
      ]
     },
     "execution_count": 28,
     "metadata": {},
     "output_type": "execute_result"
    }
   ],
   "source": [
    "stackedClose.ix['2012-01-03']"
   ]
  },
  {
   "cell_type": "code",
   "execution_count": 29,
   "metadata": {
    "collapsed": false
   },
   "outputs": [
    {
     "data": {
      "text/plain": [
       "Date\n",
       "2012-01-03    54.076\n",
       "2012-01-04    54.366\n",
       "2012-01-05    54.970\n",
       "2012-01-06    55.545\n",
       "               ...  \n",
       "2012-12-24    69.009\n",
       "2012-12-26    68.057\n",
       "2012-12-27    68.331\n",
       "2012-12-28    67.605\n",
       "dtype: float64"
      ]
     },
     "execution_count": 29,
     "metadata": {},
     "output_type": "execute_result"
    }
   ],
   "source": [
    "stackedClose.ix[:,'AAPL']"
   ]
  },
  {
   "cell_type": "code",
   "execution_count": 30,
   "metadata": {
    "collapsed": true
   },
   "outputs": [],
   "source": [
    "unstackedClose = stackedClose.unstack()"
   ]
  },
  {
   "cell_type": "code",
   "execution_count": 31,
   "metadata": {
    "collapsed": false
   },
   "outputs": [
    {
     "data": {
      "text/plain": [
       "Symbol        AAPL    MSFT\n",
       "Date                      \n",
       "2012-01-03  54.076  23.608\n",
       "2012-01-04  54.366  24.164\n",
       "2012-01-05  54.970  24.410\n",
       "2012-01-06  55.545  24.790\n",
       "...            ...     ...\n",
       "2012-01-10  55.655  24.552\n",
       "2012-01-11  55.564  24.446\n",
       "2012-01-12  55.412  24.693\n",
       "2012-01-13  55.204  24.913\n",
       "\n",
       "[9 rows x 2 columns]"
      ]
     },
     "execution_count": 31,
     "metadata": {},
     "output_type": "execute_result"
    }
   ],
   "source": [
    "unstackedClose[:9]"
   ]
  },
  {
   "cell_type": "code",
   "execution_count": 35,
   "metadata": {
    "collapsed": false
   },
   "outputs": [
    {
     "data": {
      "text/plain": [
       "           Date Symbol   variable   value\n",
       "2983 2012-12-26   MSFT  Adj Close  24.357\n",
       "2984 2012-12-27   AAPL  Adj Close  68.331\n",
       "2985 2012-12-27   MSFT  Adj Close  24.448\n",
       "2986 2012-12-28   MSFT  Adj Close  24.076\n",
       "2987 2012-12-28   AAPL  Adj Close  67.605"
      ]
     },
     "execution_count": 35,
     "metadata": {},
     "output_type": "execute_result"
    }
   ],
   "source": [
    "melted = pd.melt(s4p, id_vars=['Date', 'Symbol'])\n",
    "melted.tail()"
   ]
  },
  {
   "cell_type": "code",
   "execution_count": 36,
   "metadata": {
    "collapsed": false
   },
   "outputs": [
    {
     "data": {
      "text/plain": [
       "           Date Symbol   variable      value\n",
       "0    2012-01-03   MSFT       Open  2.655e+01\n",
       "498  2012-01-03   MSFT       High  2.696e+01\n",
       "996  2012-01-03   MSFT        Low  2.639e+01\n",
       "1494 2012-01-03   MSFT      Close  2.677e+01\n",
       "1992 2012-01-03   MSFT     Volume  6.473e+07\n",
       "2490 2012-01-03   MSFT  Adj Close  2.361e+01"
      ]
     },
     "execution_count": 36,
     "metadata": {},
     "output_type": "execute_result"
    }
   ],
   "source": [
    "melted[(melted.Date=='2012-01-03') & (melted.Symbol=='MSFT')]"
   ]
  },
  {
   "cell_type": "code",
   "execution_count": 39,
   "metadata": {
    "collapsed": false
   },
   "outputs": [
    {
     "data": {
      "text/plain": [
       "        Date  Year  Month Symbol  Adj Close\n",
       "0 2012-01-03  2012      1   MSFT     23.608\n",
       "1 2012-01-03  2012      1   AAPL     54.076\n",
       "2 2012-01-04  2012      1   MSFT     24.164\n",
       "3 2012-01-04  2012      1   AAPL     54.366\n",
       "4 2012-01-05  2012      1   MSFT     24.410"
      ]
     },
     "execution_count": 39,
     "metadata": {},
     "output_type": "execute_result"
    }
   ],
   "source": [
    "s4g = combined[['Symbol', 'Adj Close']].reset_index()\n",
    "s4g.insert(1, 'Year', pd.DatetimeIndex(s4g['Date']).year)\n",
    "s4g.insert(2, 'Month', pd.DatetimeIndex(s4g['Date']).month)\n",
    "s4g[:5]"
   ]
  },
  {
   "cell_type": "code",
   "execution_count": 41,
   "metadata": {
    "collapsed": false
   },
   "outputs": [
    {
     "data": {
      "text/plain": [
       "dict"
      ]
     },
     "execution_count": 41,
     "metadata": {},
     "output_type": "execute_result"
    }
   ],
   "source": [
    "grouped = s4g.groupby('Symbol')\n",
    "type(grouped.groups)"
   ]
  },
  {
   "cell_type": "code",
   "execution_count": 45,
   "metadata": {
    "collapsed": true
   },
   "outputs": [],
   "source": [
    "def print_groups(groupobject):\n",
    "    for name, group in groupobject:\n",
    "        print(name)\n",
    "        print(group.head())"
   ]
  },
  {
   "cell_type": "code",
   "execution_count": 46,
   "metadata": {
    "collapsed": false
   },
   "outputs": [
    {
     "name": "stdout",
     "output_type": "stream",
     "text": [
      "AAPL\n",
      "        Date  Year  Month Symbol  Adj Close\n",
      "1 2012-01-03  2012      1   AAPL     54.076\n",
      "3 2012-01-04  2012      1   AAPL     54.366\n",
      "5 2012-01-05  2012      1   AAPL     54.970\n",
      "7 2012-01-06  2012      1   AAPL     55.545\n",
      "9 2012-01-09  2012      1   AAPL     55.457\n",
      "MSFT\n",
      "        Date  Year  Month Symbol  Adj Close\n",
      "0 2012-01-03  2012      1   MSFT     23.608\n",
      "2 2012-01-04  2012      1   MSFT     24.164\n",
      "4 2012-01-05  2012      1   MSFT     24.410\n",
      "6 2012-01-06  2012      1   MSFT     24.790\n",
      "8 2012-01-09  2012      1   MSFT     24.463\n"
     ]
    }
   ],
   "source": [
    "print_groups(grouped)"
   ]
  },
  {
   "cell_type": "code",
   "execution_count": 47,
   "metadata": {
    "collapsed": false
   },
   "outputs": [
    {
     "data": {
      "text/plain": [
       "Symbol\n",
       "AAPL    249\n",
       "MSFT    249\n",
       "dtype: int64"
      ]
     },
     "execution_count": 47,
     "metadata": {},
     "output_type": "execute_result"
    }
   ],
   "source": [
    "grouped.size()"
   ]
  },
  {
   "cell_type": "code",
   "execution_count": 48,
   "metadata": {
    "collapsed": false
   },
   "outputs": [
    {
     "data": {
      "text/plain": [
       "          Date  Year  Month Symbol  Adj Close\n",
       "0   2012-01-03  2012      1   MSFT     23.608\n",
       "2   2012-01-04  2012      1   MSFT     24.164\n",
       "4   2012-01-05  2012      1   MSFT     24.410\n",
       "6   2012-01-06  2012      1   MSFT     24.790\n",
       "..         ...   ...    ...    ...        ...\n",
       "491 2012-12-24  2012     12   MSFT     24.539\n",
       "493 2012-12-26  2012     12   MSFT     24.357\n",
       "495 2012-12-27  2012     12   MSFT     24.448\n",
       "496 2012-12-28  2012     12   MSFT     24.076\n",
       "\n",
       "[249 rows x 5 columns]"
      ]
     },
     "execution_count": 48,
     "metadata": {},
     "output_type": "execute_result"
    }
   ],
   "source": [
    "grouped.get_group('MSFT')"
   ]
  },
  {
   "cell_type": "code",
   "execution_count": null,
   "metadata": {
    "collapsed": true
   },
   "outputs": [],
   "source": []
  }
 ],
 "metadata": {
  "kernelspec": {
   "display_name": "Python 3",
   "language": "python",
   "name": "python3"
  },
  "language_info": {
   "codemirror_mode": {
    "name": "ipython",
    "version": 3
   },
   "file_extension": ".py",
   "mimetype": "text/x-python",
   "name": "python",
   "nbconvert_exporter": "python",
   "pygments_lexer": "ipython3",
   "version": "3.5.1"
  }
 },
 "nbformat": 4,
 "nbformat_minor": 0
}
